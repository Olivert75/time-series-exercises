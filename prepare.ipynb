{
 "cells": [
  {
   "cell_type": "markdown",
   "id": "566c6338-0d15-4198-9b41-d56865a84c75",
   "metadata": {},
   "source": [
    "Using your store items data:\n",
    "\n",
    "Convert date column to datetime format.\n",
    "\n",
    "Plot the distribution of sale_amount and item_price.\n",
    "\n",
    "Set the index to be the datetime variable.\n",
    "\n",
    "Add a 'month' and 'day of week' column to your dataframe.\n",
    "\n",
    "Add a column to your dataframe, sales_total, which is a derived from sale_amount (total items) and item_price.\n",
    "\n",
    "Make sure all the work that you have done above is reproducible. That is, you should put the code above into separate functions and be able to re-run the functions and get the same results.`"
   ]
  },
  {
   "cell_type": "code",
   "execution_count": 1,
   "id": "ad1139d9-6c0b-4ae4-bb4f-a9001ca35dfe",
   "metadata": {},
   "outputs": [],
   "source": [
    "import pandas as pd\n",
    "import os\n",
    "import requests\n",
    "import acquire \n",
    "import matplotlib.pyplot as plt\n",
    "import numpy as np\n",
    "import seaborn as sns\n",
    "import datetime"
   ]
  },
  {
   "cell_type": "code",
   "execution_count": 2,
   "id": "2f7c2d30-1174-4e94-9d89-e2d42cc26cc5",
   "metadata": {},
   "outputs": [],
   "source": [
    "df = pd.read_csv('df_complete.csv')"
   ]
  },
  {
   "cell_type": "code",
   "execution_count": 3,
   "id": "eb381be7-661f-4289-b482-f6b45b8ff9ba",
   "metadata": {},
   "outputs": [
    {
     "data": {
      "text/html": [
       "<div>\n",
       "<style scoped>\n",
       "    .dataframe tbody tr th:only-of-type {\n",
       "        vertical-align: middle;\n",
       "    }\n",
       "\n",
       "    .dataframe tbody tr th {\n",
       "        vertical-align: top;\n",
       "    }\n",
       "\n",
       "    .dataframe thead th {\n",
       "        text-align: right;\n",
       "    }\n",
       "</style>\n",
       "<table border=\"1\" class=\"dataframe\">\n",
       "  <thead>\n",
       "    <tr style=\"text-align: right;\">\n",
       "      <th></th>\n",
       "      <th>Unnamed: 0</th>\n",
       "      <th>item_brand</th>\n",
       "      <th>item_id</th>\n",
       "      <th>item_name</th>\n",
       "      <th>item_price</th>\n",
       "      <th>item_upc12</th>\n",
       "      <th>item_upc14</th>\n",
       "      <th>sale_amount</th>\n",
       "      <th>sale_date</th>\n",
       "      <th>sale_id</th>\n",
       "      <th>store</th>\n",
       "      <th>store_address_x</th>\n",
       "      <th>store_city_x</th>\n",
       "      <th>store_state_x</th>\n",
       "      <th>store_zipcode_x</th>\n",
       "      <th>store_address_y</th>\n",
       "      <th>store_city_y</th>\n",
       "      <th>store_state_y</th>\n",
       "      <th>store_zipcode_y</th>\n",
       "    </tr>\n",
       "  </thead>\n",
       "  <tbody>\n",
       "    <tr>\n",
       "      <th>0</th>\n",
       "      <td>0</td>\n",
       "      <td>Riceland</td>\n",
       "      <td>1</td>\n",
       "      <td>Riceland American Jazmine Rice</td>\n",
       "      <td>0.84</td>\n",
       "      <td>35200264013</td>\n",
       "      <td>35200264013</td>\n",
       "      <td>13.0</td>\n",
       "      <td>Tue, 01 Jan 2013 00:00:00 GMT</td>\n",
       "      <td>1</td>\n",
       "      <td>1</td>\n",
       "      <td>12125 Alamo Ranch Pkwy</td>\n",
       "      <td>San Antonio</td>\n",
       "      <td>TX</td>\n",
       "      <td>78253</td>\n",
       "      <td>12125 Alamo Ranch Pkwy</td>\n",
       "      <td>San Antonio</td>\n",
       "      <td>TX</td>\n",
       "      <td>78253</td>\n",
       "    </tr>\n",
       "    <tr>\n",
       "      <th>1</th>\n",
       "      <td>1</td>\n",
       "      <td>Riceland</td>\n",
       "      <td>1</td>\n",
       "      <td>Riceland American Jazmine Rice</td>\n",
       "      <td>0.84</td>\n",
       "      <td>35200264013</td>\n",
       "      <td>35200264013</td>\n",
       "      <td>11.0</td>\n",
       "      <td>Wed, 02 Jan 2013 00:00:00 GMT</td>\n",
       "      <td>2</td>\n",
       "      <td>1</td>\n",
       "      <td>12125 Alamo Ranch Pkwy</td>\n",
       "      <td>San Antonio</td>\n",
       "      <td>TX</td>\n",
       "      <td>78253</td>\n",
       "      <td>12125 Alamo Ranch Pkwy</td>\n",
       "      <td>San Antonio</td>\n",
       "      <td>TX</td>\n",
       "      <td>78253</td>\n",
       "    </tr>\n",
       "    <tr>\n",
       "      <th>2</th>\n",
       "      <td>2</td>\n",
       "      <td>Riceland</td>\n",
       "      <td>1</td>\n",
       "      <td>Riceland American Jazmine Rice</td>\n",
       "      <td>0.84</td>\n",
       "      <td>35200264013</td>\n",
       "      <td>35200264013</td>\n",
       "      <td>14.0</td>\n",
       "      <td>Thu, 03 Jan 2013 00:00:00 GMT</td>\n",
       "      <td>3</td>\n",
       "      <td>1</td>\n",
       "      <td>12125 Alamo Ranch Pkwy</td>\n",
       "      <td>San Antonio</td>\n",
       "      <td>TX</td>\n",
       "      <td>78253</td>\n",
       "      <td>12125 Alamo Ranch Pkwy</td>\n",
       "      <td>San Antonio</td>\n",
       "      <td>TX</td>\n",
       "      <td>78253</td>\n",
       "    </tr>\n",
       "    <tr>\n",
       "      <th>3</th>\n",
       "      <td>3</td>\n",
       "      <td>Riceland</td>\n",
       "      <td>1</td>\n",
       "      <td>Riceland American Jazmine Rice</td>\n",
       "      <td>0.84</td>\n",
       "      <td>35200264013</td>\n",
       "      <td>35200264013</td>\n",
       "      <td>13.0</td>\n",
       "      <td>Fri, 04 Jan 2013 00:00:00 GMT</td>\n",
       "      <td>4</td>\n",
       "      <td>1</td>\n",
       "      <td>12125 Alamo Ranch Pkwy</td>\n",
       "      <td>San Antonio</td>\n",
       "      <td>TX</td>\n",
       "      <td>78253</td>\n",
       "      <td>12125 Alamo Ranch Pkwy</td>\n",
       "      <td>San Antonio</td>\n",
       "      <td>TX</td>\n",
       "      <td>78253</td>\n",
       "    </tr>\n",
       "    <tr>\n",
       "      <th>4</th>\n",
       "      <td>4</td>\n",
       "      <td>Riceland</td>\n",
       "      <td>1</td>\n",
       "      <td>Riceland American Jazmine Rice</td>\n",
       "      <td>0.84</td>\n",
       "      <td>35200264013</td>\n",
       "      <td>35200264013</td>\n",
       "      <td>10.0</td>\n",
       "      <td>Sat, 05 Jan 2013 00:00:00 GMT</td>\n",
       "      <td>5</td>\n",
       "      <td>1</td>\n",
       "      <td>12125 Alamo Ranch Pkwy</td>\n",
       "      <td>San Antonio</td>\n",
       "      <td>TX</td>\n",
       "      <td>78253</td>\n",
       "      <td>12125 Alamo Ranch Pkwy</td>\n",
       "      <td>San Antonio</td>\n",
       "      <td>TX</td>\n",
       "      <td>78253</td>\n",
       "    </tr>\n",
       "  </tbody>\n",
       "</table>\n",
       "</div>"
      ],
      "text/plain": [
       "   Unnamed: 0 item_brand  item_id                       item_name  item_price  \\\n",
       "0           0   Riceland        1  Riceland American Jazmine Rice        0.84   \n",
       "1           1   Riceland        1  Riceland American Jazmine Rice        0.84   \n",
       "2           2   Riceland        1  Riceland American Jazmine Rice        0.84   \n",
       "3           3   Riceland        1  Riceland American Jazmine Rice        0.84   \n",
       "4           4   Riceland        1  Riceland American Jazmine Rice        0.84   \n",
       "\n",
       "    item_upc12   item_upc14  sale_amount                      sale_date  \\\n",
       "0  35200264013  35200264013         13.0  Tue, 01 Jan 2013 00:00:00 GMT   \n",
       "1  35200264013  35200264013         11.0  Wed, 02 Jan 2013 00:00:00 GMT   \n",
       "2  35200264013  35200264013         14.0  Thu, 03 Jan 2013 00:00:00 GMT   \n",
       "3  35200264013  35200264013         13.0  Fri, 04 Jan 2013 00:00:00 GMT   \n",
       "4  35200264013  35200264013         10.0  Sat, 05 Jan 2013 00:00:00 GMT   \n",
       "\n",
       "   sale_id  store         store_address_x store_city_x store_state_x  \\\n",
       "0        1      1  12125 Alamo Ranch Pkwy  San Antonio            TX   \n",
       "1        2      1  12125 Alamo Ranch Pkwy  San Antonio            TX   \n",
       "2        3      1  12125 Alamo Ranch Pkwy  San Antonio            TX   \n",
       "3        4      1  12125 Alamo Ranch Pkwy  San Antonio            TX   \n",
       "4        5      1  12125 Alamo Ranch Pkwy  San Antonio            TX   \n",
       "\n",
       "   store_zipcode_x         store_address_y store_city_y store_state_y  \\\n",
       "0            78253  12125 Alamo Ranch Pkwy  San Antonio            TX   \n",
       "1            78253  12125 Alamo Ranch Pkwy  San Antonio            TX   \n",
       "2            78253  12125 Alamo Ranch Pkwy  San Antonio            TX   \n",
       "3            78253  12125 Alamo Ranch Pkwy  San Antonio            TX   \n",
       "4            78253  12125 Alamo Ranch Pkwy  San Antonio            TX   \n",
       "\n",
       "   store_zipcode_y  \n",
       "0            78253  \n",
       "1            78253  \n",
       "2            78253  \n",
       "3            78253  \n",
       "4            78253  "
      ]
     },
     "execution_count": 3,
     "metadata": {},
     "output_type": "execute_result"
    }
   ],
   "source": [
    "df.head()"
   ]
  },
  {
   "cell_type": "code",
   "execution_count": 4,
   "id": "f1c2e537-5f24-4299-a89c-62ccf7ed887d",
   "metadata": {},
   "outputs": [
    {
     "name": "stdout",
     "output_type": "stream",
     "text": [
      "<class 'pandas.core.frame.DataFrame'>\n",
      "RangeIndex: 913000 entries, 0 to 912999\n",
      "Data columns (total 19 columns):\n",
      " #   Column           Non-Null Count   Dtype  \n",
      "---  ------           --------------   -----  \n",
      " 0   Unnamed: 0       913000 non-null  int64  \n",
      " 1   item_brand       913000 non-null  object \n",
      " 2   item_id          913000 non-null  int64  \n",
      " 3   item_name        913000 non-null  object \n",
      " 4   item_price       913000 non-null  float64\n",
      " 5   item_upc12       913000 non-null  int64  \n",
      " 6   item_upc14       913000 non-null  int64  \n",
      " 7   sale_amount      913000 non-null  float64\n",
      " 8   sale_date        913000 non-null  object \n",
      " 9   sale_id          913000 non-null  int64  \n",
      " 10  store            913000 non-null  int64  \n",
      " 11  store_address_x  913000 non-null  object \n",
      " 12  store_city_x     913000 non-null  object \n",
      " 13  store_state_x    913000 non-null  object \n",
      " 14  store_zipcode_x  913000 non-null  int64  \n",
      " 15  store_address_y  913000 non-null  object \n",
      " 16  store_city_y     913000 non-null  object \n",
      " 17  store_state_y    913000 non-null  object \n",
      " 18  store_zipcode_y  913000 non-null  int64  \n",
      "dtypes: float64(2), int64(8), object(9)\n",
      "memory usage: 132.3+ MB\n"
     ]
    }
   ],
   "source": [
    "df.info()"
   ]
  },
  {
   "cell_type": "code",
   "execution_count": 5,
   "id": "121855ae-a45c-48d4-acf7-186c0e1c7f35",
   "metadata": {},
   "outputs": [],
   "source": [
    "#Turn sale date data type into date time\n",
    "df.sale_date = pd.to_datetime(df.sale_date)"
   ]
  },
  {
   "cell_type": "code",
   "execution_count": 6,
   "id": "122f0658-c8fb-4315-b864-c8c2c92410b3",
   "metadata": {},
   "outputs": [
    {
     "data": {
      "text/plain": [
       "Unnamed: 0                       int64\n",
       "item_brand                      object\n",
       "item_id                          int64\n",
       "item_name                       object\n",
       "item_price                     float64\n",
       "item_upc12                       int64\n",
       "item_upc14                       int64\n",
       "sale_amount                    float64\n",
       "sale_date          datetime64[ns, UTC]\n",
       "sale_id                          int64\n",
       "store                            int64\n",
       "store_address_x                 object\n",
       "store_city_x                    object\n",
       "store_state_x                   object\n",
       "store_zipcode_x                  int64\n",
       "store_address_y                 object\n",
       "store_city_y                    object\n",
       "store_state_y                   object\n",
       "store_zipcode_y                  int64\n",
       "dtype: object"
      ]
     },
     "execution_count": 6,
     "metadata": {},
     "output_type": "execute_result"
    }
   ],
   "source": [
    "df.dtypes"
   ]
  },
  {
   "cell_type": "code",
   "execution_count": 7,
   "id": "d3f12fe0-0bb0-42b9-8d8b-e6d4d65a42ff",
   "metadata": {},
   "outputs": [
    {
     "data": {
      "image/png": "[encoded data removed]",
      "text/plain": [
       "<Figure size 720x360 with 1 Axes>"
      ]
     },
     "metadata": {
      "needs_background": "light"
     },
     "output_type": "display_data"
    }
   ],
   "source": [
    "#distributuon of sale amount, and item price\n",
    "plt.figure(figsize=(10,5))\n",
    "df.sale_amount.hist(label='sale_amount')\n",
    "plt.legend()\n",
    "plt.title('Distributions of Sale Amount')\n",
    "plt.grid()\n",
    "plt.show()"
   ]
  },
  {
   "cell_type": "code",
   "execution_count": 8,
   "id": "f4ac47de-2d7d-438b-8035-87c8b727a6c2",
   "metadata": {},
   "outputs": [
    {
     "data": {
      "image/png": "[encoded data removed]",
      "text/plain": [
       "<Figure size 720x360 with 1 Axes>"
      ]
     },
     "metadata": {
      "needs_background": "light"
     },
     "output_type": "display_data"
    }
   ],
   "source": [
    "plt.figure(figsize=(10,5))\n",
    "df.item_price.hist(label='item_price')\n",
    "plt.title('Distributions of Item Price')\n",
    "plt.grid()\n",
    "plt.show()"
   ]
  },
  {
   "cell_type": "code",
   "execution_count": 9,
   "id": "629d3f7b-5fd5-42a3-8b9b-03d4f5fb3f0c",
   "metadata": {},
   "outputs": [],
   "source": [
    "#Set sale_date as an index\n",
    "df = df.set_index('sale_date')"
   ]
  },
  {
   "cell_type": "code",
   "execution_count": 10,
   "id": "850e220e-0681-4c82-9a89-30057180e495",
   "metadata": {},
   "outputs": [],
   "source": [
    "df['month'] = df.index.month\n",
    "df['day_of_week'] = df.index.day_name()"
   ]
  },
  {
   "cell_type": "code",
   "execution_count": 11,
   "id": "860dd7cd-09b9-48a4-a855-69b78c9df825",
   "metadata": {},
   "outputs": [],
   "source": [
    "df['sales_total'] = df.sale_amount * df.item_price"
   ]
  },
  {
   "cell_type": "code",
   "execution_count": 12,
   "id": "6b01ebb5-94a3-4af1-b63c-ae2384ac4041",
   "metadata": {},
   "outputs": [],
   "source": [
    "def date_to_index (df, col_date):\n",
    "    '''\n",
    "    takes in a df and a name of the column that is a date. \n",
    "    return a df with the selected column in datetime format  as Index \n",
    "    '''\n",
    "    #convert sale_date to datetime format\n",
    "    df[col_date]= pd.to_datetime(df[col_date])\n",
    "    #set date as index\n",
    "    df = df.set_index(col_date).sort_index()\n",
    "    return df"
   ]
  },
  {
   "cell_type": "code",
   "execution_count": 13,
   "id": "e6b216f6-a120-4d0e-a313-0b284badf754",
   "metadata": {},
   "outputs": [],
   "source": [
    "def prep_sales (df, col_date):\n",
    "    '''\n",
    "    takes in a df and the name of the column (date),\n",
    "    return df  with the selected column in datetime format  as Index, new columns:\n",
    "    month, day of week and sales_total\n",
    "    '''\n",
    "    \n",
    "    #set date to index\n",
    "    df = date_to_index (df, col_date)\n",
    "    \n",
    "    #create new columns\n",
    "    df['month '] = df.index.month\n",
    "    df['day_of_week' ] = df.index.day_name()\n",
    "    df['sales_total'] = df.sale_amount * df.item_price\n",
    "    #drop a column\n",
    "    df = df.drop(columns ='Unnamed: 0')\n",
    "\n",
    "    return df"
   ]
  },
  {
   "cell_type": "code",
   "execution_count": 14,
   "id": "542a7429-e770-445d-a185-c6b09128f277",
   "metadata": {
    "tags": []
   },
   "outputs": [],
   "source": [
    "def distribution (df):\n",
    "    '''\n",
    "    takes in a df and plot individual variable distributions excluding object type\n",
    "    '''\n",
    "    cols =df.columns.to_list()\n",
    "    for col in cols:\n",
    "        if df[col].dtype != 'object':\n",
    "            plt.hist(df[col])\n",
    "            plt.title(f'Distribution of {col}')\n",
    "            plt.xlabel('values')\n",
    "            plt.ylabel('Counts ')\n",
    "            plt.show()\n"
   ]
  },
  {
   "cell_type": "code",
   "execution_count": 15,
   "id": "ec01b4fc-2acf-4dcc-8978-4d14858d2be8",
   "metadata": {},
   "outputs": [],
   "source": [
    "import prepare as p"
   ]
  },
  {
   "cell_type": "markdown",
   "id": "7260be74-6b57-4ecd-baa8-3cbecce187c2",
   "metadata": {},
   "source": [
    "Convert date column to datetime format.\n",
    "\n",
    "Plot the distribution of each of your variables.\n",
    "\n",
    "Set the index to be the datetime variable.\n",
    "\n",
    "Add a month and a year column to your dataframe.\n",
    "\n",
    "Fill any missing values.\n",
    "\n",
    "Make sure all the work that you have done above is reproducible. That is, you should put the code above into separate functions and be able to re-run the \n",
    "functions and get the same results."
   ]
  },
  {
   "cell_type": "code",
   "execution_count": 16,
   "id": "da28be63-173e-4303-bd23-a47d6dfe4e7a",
   "metadata": {},
   "outputs": [],
   "source": [
    "germany_df = pd.read_csv('https://raw.githubusercontent.com/jenfly/opsd/master/opsd_germany_daily.csv')  "
   ]
  },
  {
   "cell_type": "code",
   "execution_count": 17,
   "id": "1f808a7f-b4b7-4d72-a9aa-55c395a34d18",
   "metadata": {},
   "outputs": [
    {
     "data": {
      "text/html": [
       "<div>\n",
       "<style scoped>\n",
       "    .dataframe tbody tr th:only-of-type {\n",
       "        vertical-align: middle;\n",
       "    }\n",
       "\n",
       "    .dataframe tbody tr th {\n",
       "        vertical-align: top;\n",
       "    }\n",
       "\n",
       "    .dataframe thead th {\n",
       "        text-align: right;\n",
       "    }\n",
       "</style>\n",
       "<table border=\"1\" class=\"dataframe\">\n",
       "  <thead>\n",
       "    <tr style=\"text-align: right;\">\n",
       "      <th></th>\n",
       "      <th>Date</th>\n",
       "      <th>Consumption</th>\n",
       "      <th>Wind</th>\n",
       "      <th>Solar</th>\n",
       "      <th>Wind+Solar</th>\n",
       "    </tr>\n",
       "  </thead>\n",
       "  <tbody>\n",
       "    <tr>\n",
       "      <th>0</th>\n",
       "      <td>2006-01-01</td>\n",
       "      <td>1069.184</td>\n",
       "      <td>NaN</td>\n",
       "      <td>NaN</td>\n",
       "      <td>NaN</td>\n",
       "    </tr>\n",
       "    <tr>\n",
       "      <th>1</th>\n",
       "      <td>2006-01-02</td>\n",
       "      <td>1380.521</td>\n",
       "      <td>NaN</td>\n",
       "      <td>NaN</td>\n",
       "      <td>NaN</td>\n",
       "    </tr>\n",
       "    <tr>\n",
       "      <th>2</th>\n",
       "      <td>2006-01-03</td>\n",
       "      <td>1442.533</td>\n",
       "      <td>NaN</td>\n",
       "      <td>NaN</td>\n",
       "      <td>NaN</td>\n",
       "    </tr>\n",
       "    <tr>\n",
       "      <th>3</th>\n",
       "      <td>2006-01-04</td>\n",
       "      <td>1457.217</td>\n",
       "      <td>NaN</td>\n",
       "      <td>NaN</td>\n",
       "      <td>NaN</td>\n",
       "    </tr>\n",
       "    <tr>\n",
       "      <th>4</th>\n",
       "      <td>2006-01-05</td>\n",
       "      <td>1477.131</td>\n",
       "      <td>NaN</td>\n",
       "      <td>NaN</td>\n",
       "      <td>NaN</td>\n",
       "    </tr>\n",
       "  </tbody>\n",
       "</table>\n",
       "</div>"
      ],
      "text/plain": [
       "         Date  Consumption  Wind  Solar  Wind+Solar\n",
       "0  2006-01-01     1069.184   NaN    NaN         NaN\n",
       "1  2006-01-02     1380.521   NaN    NaN         NaN\n",
       "2  2006-01-03     1442.533   NaN    NaN         NaN\n",
       "3  2006-01-04     1457.217   NaN    NaN         NaN\n",
       "4  2006-01-05     1477.131   NaN    NaN         NaN"
      ]
     },
     "execution_count": 17,
     "metadata": {},
     "output_type": "execute_result"
    }
   ],
   "source": [
    "germany_df.head()"
   ]
  },
  {
   "cell_type": "code",
   "execution_count": 18,
   "id": "e2238e01-d769-460b-886c-844818ee3144",
   "metadata": {},
   "outputs": [
    {
     "name": "stdout",
     "output_type": "stream",
     "text": [
      "<class 'pandas.core.frame.DataFrame'>\n",
      "RangeIndex: 4383 entries, 0 to 4382\n",
      "Data columns (total 5 columns):\n",
      " #   Column       Non-Null Count  Dtype  \n",
      "---  ------       --------------  -----  \n",
      " 0   Date         4383 non-null   object \n",
      " 1   Consumption  4383 non-null   float64\n",
      " 2   Wind         2920 non-null   float64\n",
      " 3   Solar        2188 non-null   float64\n",
      " 4   Wind+Solar   2187 non-null   float64\n",
      "dtypes: float64(4), object(1)\n",
      "memory usage: 171.3+ KB\n"
     ]
    }
   ],
   "source": [
    "germany_df.info()"
   ]
  },
  {
   "cell_type": "code",
   "execution_count": 19,
   "id": "3e9f5307-0c45-4992-8848-925d6c7a7aee",
   "metadata": {},
   "outputs": [],
   "source": [
    "germany_df['Date'] = pd.to_datetime(germany_df.Date)"
   ]
  },
  {
   "cell_type": "code",
   "execution_count": 20,
   "id": "a583ed60-e470-4252-8d31-bf5464fa5c03",
   "metadata": {},
   "outputs": [
    {
     "data": {
      "text/plain": [
       "Date           datetime64[ns]\n",
       "Consumption           float64\n",
       "Wind                  float64\n",
       "Solar                 float64\n",
       "Wind+Solar            float64\n",
       "dtype: object"
      ]
     },
     "execution_count": 20,
     "metadata": {},
     "output_type": "execute_result"
    }
   ],
   "source": [
    "germany_df.dtypes"
   ]
  },
  {
   "cell_type": "code",
   "execution_count": 21,
   "id": "1c52a3f8-168a-4f94-96ed-8d468ed3a692",
   "metadata": {},
   "outputs": [],
   "source": [
    "#Set sale_date as an index\n",
    "germany_df = germany_df.set_index('Date')"
   ]
  },
  {
   "cell_type": "code",
   "execution_count": 22,
   "id": "d25950d3-735c-42b0-a2de-d01662f624c3",
   "metadata": {},
   "outputs": [
    {
     "data": {
      "image/png": "[encoded data removed]",
      "text/plain": [
       "<Figure size 432x288 with 1 Axes>"
      ]
     },
     "metadata": {
      "needs_background": "light"
     },
     "output_type": "display_data"
    },
    {
     "data": {
      "image/png": "[encoded data removed]",
      "text/plain": [
       "<Figure size 432x288 with 1 Axes>"
      ]
     },
     "metadata": {
      "needs_background": "light"
     },
     "output_type": "display_data"
    },
    {
     "data": {
      "image/png": "[encoded data removed]",
      "text/plain": [
       "<Figure size 432x288 with 1 Axes>"
      ]
     },
     "metadata": {
      "needs_background": "light"
     },
     "output_type": "display_data"
    },
    {
     "data": {
      "image/png": "[encoded data removed]",
      "text/plain": [
       "<Figure size 432x288 with 1 Axes>"
      ]
     },
     "metadata": {
      "needs_background": "light"
     },
     "output_type": "display_data"
    }
   ],
   "source": [
    "distribution(germany_df)"
   ]
  },
  {
   "cell_type": "code",
   "execution_count": 23,
   "id": "082c80bb-272e-48d2-83f2-a2dff6d78f7a",
   "metadata": {},
   "outputs": [],
   "source": [
    "germany_df['month'] = germany_df.index.month\n",
    "germany_df['day_of_week'] = germany_df.index.day_name()"
   ]
  },
  {
   "cell_type": "code",
   "execution_count": 24,
   "id": "af46b634-61b8-4057-8932-50f78ace57ce",
   "metadata": {},
   "outputs": [
    {
     "data": {
      "text/html": [
       "<div>\n",
       "<style scoped>\n",
       "    .dataframe tbody tr th:only-of-type {\n",
       "        vertical-align: middle;\n",
       "    }\n",
       "\n",
       "    .dataframe tbody tr th {\n",
       "        vertical-align: top;\n",
       "    }\n",
       "\n",
       "    .dataframe thead th {\n",
       "        text-align: right;\n",
       "    }\n",
       "</style>\n",
       "<table border=\"1\" class=\"dataframe\">\n",
       "  <thead>\n",
       "    <tr style=\"text-align: right;\">\n",
       "      <th></th>\n",
       "      <th>Consumption</th>\n",
       "      <th>Wind</th>\n",
       "      <th>Solar</th>\n",
       "      <th>Wind+Solar</th>\n",
       "      <th>month</th>\n",
       "      <th>day_of_week</th>\n",
       "    </tr>\n",
       "    <tr>\n",
       "      <th>Date</th>\n",
       "      <th></th>\n",
       "      <th></th>\n",
       "      <th></th>\n",
       "      <th></th>\n",
       "      <th></th>\n",
       "      <th></th>\n",
       "    </tr>\n",
       "  </thead>\n",
       "  <tbody>\n",
       "    <tr>\n",
       "      <th>2006-01-01</th>\n",
       "      <td>1069.18400</td>\n",
       "      <td>NaN</td>\n",
       "      <td>NaN</td>\n",
       "      <td>NaN</td>\n",
       "      <td>1</td>\n",
       "      <td>Sunday</td>\n",
       "    </tr>\n",
       "    <tr>\n",
       "      <th>2006-01-02</th>\n",
       "      <td>1380.52100</td>\n",
       "      <td>NaN</td>\n",
       "      <td>NaN</td>\n",
       "      <td>NaN</td>\n",
       "      <td>1</td>\n",
       "      <td>Monday</td>\n",
       "    </tr>\n",
       "    <tr>\n",
       "      <th>2006-01-03</th>\n",
       "      <td>1442.53300</td>\n",
       "      <td>NaN</td>\n",
       "      <td>NaN</td>\n",
       "      <td>NaN</td>\n",
       "      <td>1</td>\n",
       "      <td>Tuesday</td>\n",
       "    </tr>\n",
       "    <tr>\n",
       "      <th>2006-01-04</th>\n",
       "      <td>1457.21700</td>\n",
       "      <td>NaN</td>\n",
       "      <td>NaN</td>\n",
       "      <td>NaN</td>\n",
       "      <td>1</td>\n",
       "      <td>Wednesday</td>\n",
       "    </tr>\n",
       "    <tr>\n",
       "      <th>2006-01-05</th>\n",
       "      <td>1477.13100</td>\n",
       "      <td>NaN</td>\n",
       "      <td>NaN</td>\n",
       "      <td>NaN</td>\n",
       "      <td>1</td>\n",
       "      <td>Thursday</td>\n",
       "    </tr>\n",
       "    <tr>\n",
       "      <th>...</th>\n",
       "      <td>...</td>\n",
       "      <td>...</td>\n",
       "      <td>...</td>\n",
       "      <td>...</td>\n",
       "      <td>...</td>\n",
       "      <td>...</td>\n",
       "    </tr>\n",
       "    <tr>\n",
       "      <th>2017-12-27</th>\n",
       "      <td>1263.94091</td>\n",
       "      <td>394.507</td>\n",
       "      <td>16.530</td>\n",
       "      <td>411.037</td>\n",
       "      <td>12</td>\n",
       "      <td>Wednesday</td>\n",
       "    </tr>\n",
       "    <tr>\n",
       "      <th>2017-12-28</th>\n",
       "      <td>1299.86398</td>\n",
       "      <td>506.424</td>\n",
       "      <td>14.162</td>\n",
       "      <td>520.586</td>\n",
       "      <td>12</td>\n",
       "      <td>Thursday</td>\n",
       "    </tr>\n",
       "    <tr>\n",
       "      <th>2017-12-29</th>\n",
       "      <td>1295.08753</td>\n",
       "      <td>584.277</td>\n",
       "      <td>29.854</td>\n",
       "      <td>614.131</td>\n",
       "      <td>12</td>\n",
       "      <td>Friday</td>\n",
       "    </tr>\n",
       "    <tr>\n",
       "      <th>2017-12-30</th>\n",
       "      <td>1215.44897</td>\n",
       "      <td>721.247</td>\n",
       "      <td>7.467</td>\n",
       "      <td>728.714</td>\n",
       "      <td>12</td>\n",
       "      <td>Saturday</td>\n",
       "    </tr>\n",
       "    <tr>\n",
       "      <th>2017-12-31</th>\n",
       "      <td>1107.11488</td>\n",
       "      <td>721.176</td>\n",
       "      <td>19.980</td>\n",
       "      <td>741.156</td>\n",
       "      <td>12</td>\n",
       "      <td>Sunday</td>\n",
       "    </tr>\n",
       "  </tbody>\n",
       "</table>\n",
       "<p>4383 rows × 6 columns</p>\n",
       "</div>"
      ],
      "text/plain": [
       "            Consumption     Wind   Solar  Wind+Solar  month day_of_week\n",
       "Date                                                                   \n",
       "2006-01-01   1069.18400      NaN     NaN         NaN      1      Sunday\n",
       "2006-01-02   1380.52100      NaN     NaN         NaN      1      Monday\n",
       "2006-01-03   1442.53300      NaN     NaN         NaN      1     Tuesday\n",
       "2006-01-04   1457.21700      NaN     NaN         NaN      1   Wednesday\n",
       "2006-01-05   1477.13100      NaN     NaN         NaN      1    Thursday\n",
       "...                 ...      ...     ...         ...    ...         ...\n",
       "2017-12-27   1263.94091  394.507  16.530     411.037     12   Wednesday\n",
       "2017-12-28   1299.86398  506.424  14.162     520.586     12    Thursday\n",
       "2017-12-29   1295.08753  584.277  29.854     614.131     12      Friday\n",
       "2017-12-30   1215.44897  721.247   7.467     728.714     12    Saturday\n",
       "2017-12-31   1107.11488  721.176  19.980     741.156     12      Sunday\n",
       "\n",
       "[4383 rows x 6 columns]"
      ]
     },
     "execution_count": 24,
     "metadata": {},
     "output_type": "execute_result"
    }
   ],
   "source": [
    "germany_df"
   ]
  },
  {
   "cell_type": "code",
   "execution_count": null,
   "id": "c9ca5411-d651-470a-b93b-003a2096fbe3",
   "metadata": {},
   "outputs": [],
   "source": []
  }
 ],
 "metadata": {
  "kernelspec": {
   "display_name": "Python 3 (ipykernel)",
   "language": "python",
   "name": "python3"
  },
  "language_info": {
   "codemirror_mode": {
    "name": "ipython",
    "version": 3
   },
   "file_extension": ".py",
   "mimetype": "text/x-python",
   "name": "python",
   "nbconvert_exporter": "python",
   "pygments_lexer": "ipython3",
   "version": "3.9.7"
  }
 },
 "nbformat": 4,
 "nbformat_minor": 5
}
